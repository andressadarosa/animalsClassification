{
  "nbformat": 4,
  "nbformat_minor": 0,
  "metadata": {
    "colab": {
      "name": "projeto1.ipynb",
      "provenance": [],
      "collapsed_sections": []
    },
    "kernelspec": {
      "name": "python3",
      "display_name": "Python 3"
    },
    "language_info": {
      "name": "python"
    }
  },
  "cells": [
    {
      "cell_type": "code",
      "execution_count": null,
      "metadata": {
        "id": "2B0AAmXV7BhO"
      },
      "outputs": [],
      "source": [
        "# feautures (caracteristicas)\n",
        "# 1 = sim, 0 = não\n",
        "# pelo longo?\n",
        "# perna curta?\n",
        "# faz auau?\n",
        "\n",
        "porco1 = [0, 1, 0]\n",
        "porco2 = [0, 1, 1]\n",
        "porco3 = [1, 1, 0]\n",
        "\n",
        "cachorro1 = [0, 1, 1]\n",
        "cachorro2 = [1, 0, 1]\n",
        "cachorro3 = [1, 1, 1]\n",
        "\n",
        "# 1 => porco, 0 => cachorro\n",
        "treino_x = [porco1, porco2, porco3, cachorro1, cachorro2, cachorro3] # dados\n",
        "treino_y = [1, 1, 1, 0, 0, 0] # classes / labels (etiquetas)"
      ]
    },
    {
      "cell_type": "code",
      "source": [
        "# construindo o estimador\n",
        "\n",
        "from sklearn.svm import LinearSVC\n",
        "\n",
        "model = LinearSVC()\n",
        "model.fit(treino_x, treino_y) # aprendizado supervisionado -> tenho que dizer quais são as classes\n",
        "# fit -> o modelo vai tentar se adaptar as informações que eu passei"
      ],
      "metadata": {
        "colab": {
          "base_uri": "https://localhost:8080/"
        },
        "id": "asJLwKCA-rNY",
        "outputId": "045ad738-9735-48a2-c2e9-0e2c4427444e"
      },
      "execution_count": null,
      "outputs": [
        {
          "output_type": "execute_result",
          "data": {
            "text/plain": [
              "LinearSVC()"
            ]
          },
          "metadata": {},
          "execution_count": 5
        }
      ]
    },
    {
      "cell_type": "code",
      "source": [
        "animal_misterioso = [1, 1, 1]\n",
        "model.predict([animal_misterioso]) # modelo, qual é classe do animal_misterioso?\n",
        "# o predict espera uma lista com features\n",
        "\n",
        "# o modelo diz que o animal_misterioso é um cachorro"
      ],
      "metadata": {
        "colab": {
          "base_uri": "https://localhost:8080/"
        },
        "id": "VIGpEB2C_wxe",
        "outputId": "0f2ffdec-5482-4703-e1da-7b26b387637d"
      },
      "execution_count": null,
      "outputs": [
        {
          "output_type": "execute_result",
          "data": {
            "text/plain": [
              "array([0])"
            ]
          },
          "metadata": {},
          "execution_count": 6
        }
      ]
    },
    {
      "cell_type": "code",
      "source": [
        "misterio1 = [1, 1, 1]\n",
        "misterio2 = [1, 1, 0]\n",
        "misterio3 = [0, 1, 1]\n",
        "\n",
        "teste_x = [misterio1, misterio2, misterio3]\n",
        "teste_y = [0, 1, 1]"
      ],
      "metadata": {
        "id": "RUFey9cbAZz_"
      },
      "execution_count": null,
      "outputs": []
    },
    {
      "cell_type": "code",
      "source": [
        "previsoes = model.predict(teste_x)"
      ],
      "metadata": {
        "id": "iOL4HERUBFoG"
      },
      "execution_count": null,
      "outputs": []
    },
    {
      "cell_type": "markdown",
      "source": [
        "Como calcular a acurácia do modelo \"na mão\":"
      ],
      "metadata": {
        "id": "Exss5EnLDSMr"
      }
    },
    {
      "cell_type": "code",
      "source": [
        "corretos = (teste_y == previsoes).sum()  # número de verdadeiros \n",
        "total = len(teste_x)\n",
        "taxa_de_acerto = corretos/total\n",
        "print('Acurácia do meu modelo: %.2f  ' % (taxa_de_acerto * 100))"
      ],
      "metadata": {
        "colab": {
          "base_uri": "https://localhost:8080/"
        },
        "id": "1KhlXgH7BWhl",
        "outputId": "3be47603-7fa0-4a89-b793-55bdd1c69130"
      },
      "execution_count": null,
      "outputs": [
        {
          "output_type": "stream",
          "name": "stdout",
          "text": [
            "Acurácia do meu modelo: 66.67  \n"
          ]
        }
      ]
    },
    {
      "cell_type": "markdown",
      "source": [
        "Como calcular a acurácia do meu modelo a partir do sklearn.metrics: (verdadeiro, previsões)\n"
      ],
      "metadata": {
        "id": "1qNjq-yoCxFz"
      }
    },
    {
      "cell_type": "code",
      "source": [
        "from sklearn.metrics import accuracy_score\n",
        "\n",
        "acuracia = (teste_y, previsoes)\n",
        "print('Acurácia do meu modelo: %.2f ' % (taxa_de_acerto * 100))"
      ],
      "metadata": {
        "colab": {
          "base_uri": "https://localhost:8080/"
        },
        "id": "97rE2UScCWqb",
        "outputId": "1d0e8175-e30f-4b0f-d01c-dfe23f91c407"
      },
      "execution_count": null,
      "outputs": [
        {
          "output_type": "stream",
          "name": "stdout",
          "text": [
            "Acurácia do meu modelo: 66.67 \n"
          ]
        }
      ]
    }
  ]
}